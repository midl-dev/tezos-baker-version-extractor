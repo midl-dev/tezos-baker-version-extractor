{
 "cells": [
  {
   "cell_type": "markdown",
   "metadata": {},
   "source": [
    "The following code queries all bakers in the 6 previous cycles and their versions.\n",
    "\n",
    "To run, press Crtl + Enter three times."
   ]
  },
  {
   "cell_type": "code",
   "execution_count": null,
   "metadata": {},
   "outputs": [],
   "source": [
    "import requests\n",
    "import json\n",
    "import datetime\n",
    "# get current cycle\n",
    "current_cycle = int(requests.get(\"https://api.tzstats.com/explorer/cycle/head\").json()[\"cycle\"])\n",
    "\n",
    "print(\"Starting queries... it will take a while\")\n",
    "# make list of active bakers\n",
    "bakers_dict = {}\n",
    "for cycle in range(current_cycle - 5, current_cycle+1):\n",
    "    bakers_json = requests.get(f\"https://api.tzstats.com/tables/income?&columns=address,rolls&cycle={cycle}\")\n",
    "    bakers = bakers_json.json()\n",
    "    for baker in bakers:\n",
    "        if baker[0] not in bakers_dict:\n",
    "            bakers_dict[baker[0]] = { \"rolls\": baker[1] }\n",
    "\n",
    "# uncomment line below to make the list smaller while developing\n",
    "#bakers_dict = { k:v for k,v in bakers_dict.items() if k in list(bakers_dict)[:100]}\n",
    "\n",
    "# query baker alias from tzkt (tzstats does not have it)\n",
    "\n",
    "tzkt_account_json = requests.get(\"https://api.tzkt.io/v1/delegates/?select=address,alias,balance&limit=10000\")\n",
    "bakers_alias={account['address']:account['alias'] for account in tzkt_account_json.json()}\n",
    "\n",
    "# hardcoded version numbers ... not sure where to look\n",
    "version_nums = { \"d74e7b6d\":\"v8.1\",\n",
    "               \"6102c808\": \"v8.2\",\n",
    "               \"ce365456\": \"v7.5\",\n",
    "               \"e69b63f1\": \"v7.4\",\n",
    "               \"567be003\": \"v8.0\",\n",
    "               \"c90787b9\": \"v8.0-rc1\",\n",
    "               \"13067b95\": \"mainnet-2020-june\"}\n",
    "\n",
    "for baker_idx, baker in enumerate(list(bakers_dict)):\n",
    "    baker_version = requests.get(f\"https://api.tzstats.com/explorer/account/{baker}\").json()[\"baker_version\"]\n",
    "    # query baker alias from tzkt (tzstats does not have it)\n",
    "\n",
    "    if baker_idx % 10 == 0:\n",
    "        print(f\"{len(bakers_dict) - baker_idx} bakers left to query...\")\n",
    "    bakers_dict[baker][\"version\"] = version_nums.get(baker_version, baker_version)\n",
    "    bakers_dict[baker][\"alias\"] = bakers_alias.get(baker)\n",
    "    \n",
    "#Organize upgrade results in a table compatible with Pandas DataFrame\n",
    "results_pn = {'address':[],\n",
    "              'alias': [],\n",
    "              'rolls':[],\n",
    "              'version':[]\n",
    "             }\n",
    "\n",
    "for k,v in bakers_dict.items():\n",
    "    results_pn['address'].append(k)\n",
    "    results_pn['alias'].append(v['alias'])\n",
    "    results_pn['rolls'].append(v['rolls'])\n",
    "    results_pn['version'].append(v['version'])\n",
    "    \n",
    "print(\"all done!\")"
   ]
  },
  {
   "cell_type": "code",
   "execution_count": null,
   "metadata": {},
   "outputs": [],
   "source": [
    "import pandas as pd\n",
    "pd.set_option('display.max_rows', None)\n",
    "df = pd.DataFrame(results_pn)\n",
    "df = df.sort_values(by=['rolls'], ascending=False)\n",
    "from IPython.display import display, HTML\n",
    "\n",
    "display(df)"
   ]
  },
  {
   "cell_type": "code",
   "execution_count": null,
   "metadata": {},
   "outputs": [],
   "source": []
  }
 ],
 "metadata": {
  "kernelspec": {
   "display_name": "Python 3",
   "language": "python",
   "name": "python3"
  },
  "language_info": {
   "codemirror_mode": {
    "name": "ipython",
    "version": 3
   },
   "file_extension": ".py",
   "mimetype": "text/x-python",
   "name": "python",
   "nbconvert_exporter": "python",
   "pygments_lexer": "ipython3",
   "version": "3.7.8"
  }
 },
 "nbformat": 4,
 "nbformat_minor": 4
}
